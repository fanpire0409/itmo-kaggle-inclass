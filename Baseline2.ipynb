{
 "cells": [
  {
   "cell_type": "code",
   "execution_count": 1,
   "metadata": {},
   "outputs": [],
   "source": [
    "DATA_PATH = 'E:/Mein/Учеба/Audio/'\n",
    "\n",
    "# names of valuable files/folders\n",
    "train_meta_fname = 'train.csv'\n",
    "test_meta_fname = 'sample_submission.csv'\n",
    "train_data_folder = 'train'\n",
    "test_data_folder = 'test'"
   ]
  },
  {
   "cell_type": "code",
   "execution_count": 2,
   "metadata": {},
   "outputs": [],
   "source": [
    "import numpy as np\n",
    "import os\n",
    "import pandas as pd\n",
    "import torch\n",
    "import torch.nn as nn\n",
    "import torch.nn.functional as F\n",
    "from torch.utils.data import Dataset\n",
    "from torch.utils.data import DataLoader\n",
    "import torchaudio\n",
    "import torchvision\n",
    "from torchaudio import transforms\n",
    "from efficientnet_pytorch import EfficientNet\n",
    "from sklearn.model_selection import train_test_split\n",
    "from sklearn.metrics import f1_score\n",
    "from tqdm import tqdm"
   ]
  },
  {
   "cell_type": "code",
   "execution_count": 3,
   "metadata": {},
   "outputs": [],
   "source": [
    "import random\n",
    "import numpy as np\n",
    "\n",
    "random.seed(42)\n",
    "np.random.seed(42)\n",
    "torch.manual_seed(42)\n",
    "torch.cuda.manual_seed(42)\n",
    "torch.backends.cudnn.deterministic = True"
   ]
  },
  {
   "cell_type": "code",
   "execution_count": 4,
   "metadata": {},
   "outputs": [
    {
     "data": {
      "text/html": [
       "<div>\n",
       "<style scoped>\n",
       "    .dataframe tbody tr th:only-of-type {\n",
       "        vertical-align: middle;\n",
       "    }\n",
       "\n",
       "    .dataframe tbody tr th {\n",
       "        vertical-align: top;\n",
       "    }\n",
       "\n",
       "    .dataframe thead th {\n",
       "        text-align: right;\n",
       "    }\n",
       "</style>\n",
       "<table border=\"1\" class=\"dataframe\">\n",
       "  <thead>\n",
       "    <tr style=\"text-align: right;\">\n",
       "      <th></th>\n",
       "      <th>fname</th>\n",
       "      <th>label</th>\n",
       "    </tr>\n",
       "  </thead>\n",
       "  <tbody>\n",
       "    <tr>\n",
       "      <th>0</th>\n",
       "      <td>8bcbcc394ba64fe85ed4.wav</td>\n",
       "      <td>Finger_snapping</td>\n",
       "    </tr>\n",
       "    <tr>\n",
       "      <th>1</th>\n",
       "      <td>00d77b917e241afa06f1.wav</td>\n",
       "      <td>Squeak</td>\n",
       "    </tr>\n",
       "  </tbody>\n",
       "</table>\n",
       "</div>"
      ],
      "text/plain": [
       "                      fname            label\n",
       "0  8bcbcc394ba64fe85ed4.wav  Finger_snapping\n",
       "1  00d77b917e241afa06f1.wav           Squeak"
      ]
     },
     "execution_count": 4,
     "metadata": {},
     "output_type": "execute_result"
    }
   ],
   "source": [
    "df_train = pd.read_csv(os.path.join(DATA_PATH, train_meta_fname))\n",
    "df_test = pd.read_csv(os.path.join(DATA_PATH, test_meta_fname))\n",
    "df_train.head(2)"
   ]
  },
  {
   "cell_type": "code",
   "execution_count": 5,
   "metadata": {},
   "outputs": [
    {
     "name": "stdout",
     "output_type": "stream",
     "text": [
      "41\n"
     ]
    },
    {
     "data": {
      "text/html": [
       "<div>\n",
       "<style scoped>\n",
       "    .dataframe tbody tr th:only-of-type {\n",
       "        vertical-align: middle;\n",
       "    }\n",
       "\n",
       "    .dataframe tbody tr th {\n",
       "        vertical-align: top;\n",
       "    }\n",
       "\n",
       "    .dataframe thead th {\n",
       "        text-align: right;\n",
       "    }\n",
       "</style>\n",
       "<table border=\"1\" class=\"dataframe\">\n",
       "  <thead>\n",
       "    <tr style=\"text-align: right;\">\n",
       "      <th></th>\n",
       "      <th>fname</th>\n",
       "      <th>label</th>\n",
       "      <th>label_encoded</th>\n",
       "    </tr>\n",
       "  </thead>\n",
       "  <tbody>\n",
       "    <tr>\n",
       "      <th>0</th>\n",
       "      <td>8bcbcc394ba64fe85ed4.wav</td>\n",
       "      <td>Finger_snapping</td>\n",
       "      <td>0</td>\n",
       "    </tr>\n",
       "    <tr>\n",
       "      <th>1</th>\n",
       "      <td>00d77b917e241afa06f1.wav</td>\n",
       "      <td>Squeak</td>\n",
       "      <td>1</td>\n",
       "    </tr>\n",
       "    <tr>\n",
       "      <th>2</th>\n",
       "      <td>17bb93b73b8e79234cb3.wav</td>\n",
       "      <td>Electric_piano</td>\n",
       "      <td>2</td>\n",
       "    </tr>\n",
       "    <tr>\n",
       "      <th>3</th>\n",
       "      <td>7d5c7a40a936136da55e.wav</td>\n",
       "      <td>Harmonica</td>\n",
       "      <td>3</td>\n",
       "    </tr>\n",
       "    <tr>\n",
       "      <th>4</th>\n",
       "      <td>17e0ee7565a33d6c2326.wav</td>\n",
       "      <td>Snare_drum</td>\n",
       "      <td>4</td>\n",
       "    </tr>\n",
       "  </tbody>\n",
       "</table>\n",
       "</div>"
      ],
      "text/plain": [
       "                      fname            label  label_encoded\n",
       "0  8bcbcc394ba64fe85ed4.wav  Finger_snapping              0\n",
       "1  00d77b917e241afa06f1.wav           Squeak              1\n",
       "2  17bb93b73b8e79234cb3.wav   Electric_piano              2\n",
       "3  7d5c7a40a936136da55e.wav        Harmonica              3\n",
       "4  17e0ee7565a33d6c2326.wav       Snare_drum              4"
      ]
     },
     "execution_count": 5,
     "metadata": {},
     "output_type": "execute_result"
    }
   ],
   "source": [
    "n_classes = df_train.label.nunique()\n",
    "print(n_classes)\n",
    "classes_dict = {cl:i for i,cl in enumerate(df_train.label.unique())}\n",
    "df_train['label_encoded'] = df_train.label.map(classes_dict)\n",
    "df_train.head()"
   ]
  },
  {
   "cell_type": "code",
   "execution_count": 6,
   "metadata": {},
   "outputs": [],
   "source": [
    "class BaseLineModel(nn.Module):\n",
    "    \n",
    "    def __init__(self, sample_rate=16000, n_classes=41):\n",
    "        super().__init__()\n",
    "        self.ms = torchaudio.transforms.MelSpectrogram(sample_rate)\n",
    "#         self.bn1 = nn.BatchNorm2d(1)\n",
    "        \n",
    "        self.cnn1 = nn.Conv2d(in_channels=1, out_channels=10, kernel_size=3, padding=1)\n",
    "        self.cnn3 = nn.Conv2d(in_channels=10, out_channels=3, kernel_size=3, padding=1)\n",
    "        \n",
    "        self.features = EfficientNet.from_pretrained('efficientnet-b0')\n",
    "        # use it as features\n",
    "#         for param in self.features.parameters():\n",
    "#             param.requires_grad = False\n",
    "            \n",
    "        self.lin1 = nn.Linear(1000, 333)\n",
    "        \n",
    "        self.lin2 = nn.Linear(333, 111)\n",
    "                \n",
    "        self.lin3 = nn.Linear(111, n_classes)\n",
    "        \n",
    "    def forward(self, x):\n",
    "        x = self.ms(x)\n",
    "#         x = self.bn1(x)\n",
    "                \n",
    "        x = F.relu(self.cnn1(x))\n",
    "        x = F.relu(self.cnn3(x))\n",
    "        \n",
    "        x = self.features(x)\n",
    "\n",
    "        x = x.view(x.shape[0], -1)\n",
    "        x = F.relu(x)\n",
    "        \n",
    "        x = F.relu(self.lin1(x))\n",
    "        x = F.relu(self.lin2(x))\n",
    "        x = self.lin3(x)\n",
    "        return x\n",
    "    \n",
    "    def inference(self, x):\n",
    "        x = self.forward(x)\n",
    "        x = F.softmax(x)\n",
    "        return x"
   ]
  },
  {
   "cell_type": "code",
   "execution_count": 7,
   "metadata": {},
   "outputs": [],
   "source": [
    "def sample_or_pad(waveform, wav_len=32000):\n",
    "    m, n = waveform.shape\n",
    "    if n < wav_len:\n",
    "        padded_wav = torch.zeros(1, wav_len)\n",
    "        padded_wav[:, :n] = waveform\n",
    "        return padded_wav\n",
    "    elif n > wav_len:\n",
    "        offset = np.random.randint(0, n - wav_len)\n",
    "        sampled_wav = waveform[:, offset:offset+wav_len]\n",
    "        return sampled_wav\n",
    "    else:\n",
    "        return waveform\n",
    "        \n",
    "class EventDetectionDataset(Dataset):\n",
    "    def __init__(self, data_path, x, y=None):\n",
    "        self.x = x\n",
    "        self.y = y\n",
    "        self.data_path = data_path\n",
    "    \n",
    "    def __len__(self):\n",
    "        return len(self.x)\n",
    "\n",
    "    def __getitem__(self, idx):\n",
    "        path2wav = os.path.join(self.data_path, self.x[idx])\n",
    "        waveform, sample_rate = torchaudio.load(path2wav, normalization=True)\n",
    "        waveform = sample_or_pad(waveform)\n",
    "        if self.y is not None:\n",
    "            return waveform, self.y[idx]\n",
    "        return waveform"
   ]
  },
  {
   "cell_type": "code",
   "execution_count": 8,
   "metadata": {},
   "outputs": [],
   "source": [
    "X_train, X_val, y_train, y_val = train_test_split(df_train.fname.values, df_train.label_encoded.values, \n",
    "                                                  test_size=0.2, random_state=42)\n",
    "train_loader = DataLoader(\n",
    "                        EventDetectionDataset(os.path.join(DATA_PATH, train_data_folder), X_train, y_train),\n",
    "                        batch_size=41\n",
    "                )\n",
    "val_loader = DataLoader(\n",
    "                        EventDetectionDataset(os.path.join(DATA_PATH, train_data_folder), X_val, y_val),\n",
    "                        batch_size=41\n",
    "                )\n",
    "test_loader = DataLoader(\n",
    "                        EventDetectionDataset(os.path.join(DATA_PATH, test_data_folder), df_test.fname.values, None),\n",
    "                        batch_size=41, shuffle=False\n",
    "                )"
   ]
  },
  {
   "cell_type": "code",
   "execution_count": 9,
   "metadata": {},
   "outputs": [],
   "source": [
    "def eval_model(model, eval_dataset):\n",
    "    model.eval()\n",
    "    forecast, true_labs = [], []\n",
    "    with torch.no_grad():\n",
    "        for wavs, labs in tqdm(eval_dataset):\n",
    "            wavs, labs = wavs.cuda(), labs.detach().numpy()\n",
    "            true_labs.append(labs)\n",
    "            outputs = model.inference(wavs)\n",
    "            \n",
    "            outputs = outputs.detach().cpu().numpy().argmax(axis=1)\n",
    "            forecast.append(outputs)\n",
    "    forecast = [x for sublist in forecast for x in sublist]\n",
    "    true_labs = [x for sublist in true_labs for x in sublist]\n",
    "    return f1_score(forecast, true_labs, average='macro')"
   ]
  },
  {
   "cell_type": "code",
   "execution_count": 10,
   "metadata": {},
   "outputs": [
    {
     "name": "stdout",
     "output_type": "stream",
     "text": [
      "Loaded pretrained weights for efficientnet-b0\n"
     ]
    }
   ],
   "source": [
    "criterion = nn.CrossEntropyLoss()\n",
    "model = BaseLineModel()\n",
    "model = model.cuda()\n",
    "lr = 1e-3\n",
    "\n",
    "optimizer = torch.optim.Adam(model.parameters(), lr=lr)"
   ]
  },
  {
   "cell_type": "code",
   "execution_count": 11,
   "metadata": {},
   "outputs": [
    {
     "name": "stderr",
     "output_type": "stream",
     "text": [
      "100%|██████████| 111/111 [05:00<00:00,  2.71s/it]\n",
      "  0%|          | 0/28 [00:00<?, ?it/s]E:\\Anaconda\\lib\\site-packages\\ipykernel_launcher.py:41: UserWarning: Implicit dimension choice for softmax has been deprecated. Change the call to include dim=X as an argument.\n",
      "100%|██████████| 28/28 [01:10<00:00,  2.52s/it]\n",
      "100%|██████████| 111/111 [03:46<00:00,  2.04s/it]\n",
      "  0%|          | 0/111 [00:00<?, ?it/s]"
     ]
    },
    {
     "name": "stdout",
     "output_type": "stream",
     "text": [
      "epoch: 0, f1_test: 0.08672982012717403, f1_train: 0.08584106618754195\n"
     ]
    },
    {
     "name": "stderr",
     "output_type": "stream",
     "text": [
      "100%|██████████| 111/111 [05:11<00:00,  2.81s/it]\n",
      "100%|██████████| 28/28 [01:13<00:00,  2.62s/it]\n",
      "100%|██████████| 111/111 [03:49<00:00,  2.07s/it]\n",
      "  0%|          | 0/111 [00:00<?, ?it/s]"
     ]
    },
    {
     "name": "stdout",
     "output_type": "stream",
     "text": [
      "epoch: 1, f1_test: 0.2243916748047431, f1_train: 0.23550236737321567\n"
     ]
    },
    {
     "name": "stderr",
     "output_type": "stream",
     "text": [
      "100%|██████████| 111/111 [04:26<00:00,  2.40s/it]\n",
      "100%|██████████| 28/28 [01:01<00:00,  2.20s/it]\n",
      "100%|██████████| 111/111 [03:46<00:00,  2.04s/it]\n",
      "  0%|          | 0/111 [00:00<?, ?it/s]"
     ]
    },
    {
     "name": "stdout",
     "output_type": "stream",
     "text": [
      "epoch: 2, f1_test: 0.20631553412600312, f1_train: 0.23052652910105234\n"
     ]
    },
    {
     "name": "stderr",
     "output_type": "stream",
     "text": [
      "100%|██████████| 111/111 [03:50<00:00,  2.08s/it]\n",
      "100%|██████████| 28/28 [00:54<00:00,  1.93s/it]\n",
      "100%|██████████| 111/111 [03:04<00:00,  1.66s/it]\n",
      "  0%|          | 0/111 [00:00<?, ?it/s]"
     ]
    },
    {
     "name": "stdout",
     "output_type": "stream",
     "text": [
      "epoch: 3, f1_test: 0.22903201266913606, f1_train: 0.26031545277395346\n"
     ]
    },
    {
     "name": "stderr",
     "output_type": "stream",
     "text": [
      "100%|██████████| 111/111 [03:37<00:00,  1.96s/it]\n",
      "100%|██████████| 28/28 [00:49<00:00,  1.76s/it]\n",
      "100%|██████████| 111/111 [03:26<00:00,  1.86s/it]\n",
      "  0%|          | 0/111 [00:00<?, ?it/s]"
     ]
    },
    {
     "name": "stdout",
     "output_type": "stream",
     "text": [
      "epoch: 4, f1_test: 0.35486816338961247, f1_train: 0.3938568166972967\n"
     ]
    },
    {
     "name": "stderr",
     "output_type": "stream",
     "text": [
      "100%|██████████| 111/111 [03:35<00:00,  1.94s/it]\n",
      "100%|██████████| 28/28 [00:49<00:00,  1.77s/it]\n",
      "100%|██████████| 111/111 [02:56<00:00,  1.59s/it]\n",
      "  0%|          | 0/111 [00:00<?, ?it/s]"
     ]
    },
    {
     "name": "stdout",
     "output_type": "stream",
     "text": [
      "epoch: 5, f1_test: 0.33311821481150206, f1_train: 0.4154129571616797\n"
     ]
    },
    {
     "name": "stderr",
     "output_type": "stream",
     "text": [
      "100%|██████████| 111/111 [03:45<00:00,  2.04s/it]\n",
      "100%|██████████| 28/28 [00:49<00:00,  1.78s/it]\n",
      "100%|██████████| 111/111 [03:10<00:00,  1.72s/it]\n",
      "  0%|          | 0/111 [00:00<?, ?it/s]"
     ]
    },
    {
     "name": "stdout",
     "output_type": "stream",
     "text": [
      "epoch: 6, f1_test: 0.42413863605275265, f1_train: 0.5111541997333628\n"
     ]
    },
    {
     "name": "stderr",
     "output_type": "stream",
     "text": [
      "100%|██████████| 111/111 [04:03<00:00,  2.19s/it]\n",
      "100%|██████████| 28/28 [00:51<00:00,  1.85s/it]\n",
      "100%|██████████| 111/111 [03:03<00:00,  1.66s/it]\n",
      "  0%|          | 0/111 [00:00<?, ?it/s]"
     ]
    },
    {
     "name": "stdout",
     "output_type": "stream",
     "text": [
      "epoch: 7, f1_test: 0.4529135271078379, f1_train: 0.5730540646852728\n"
     ]
    },
    {
     "name": "stderr",
     "output_type": "stream",
     "text": [
      "100%|██████████| 111/111 [04:08<00:00,  2.24s/it]\n",
      "100%|██████████| 28/28 [00:50<00:00,  1.79s/it]\n",
      "100%|██████████| 111/111 [03:11<00:00,  1.72s/it]\n",
      "  0%|          | 0/111 [00:00<?, ?it/s]"
     ]
    },
    {
     "name": "stdout",
     "output_type": "stream",
     "text": [
      "epoch: 8, f1_test: 0.4936825629925663, f1_train: 0.6431187529753074\n"
     ]
    },
    {
     "name": "stderr",
     "output_type": "stream",
     "text": [
      "100%|██████████| 111/111 [03:36<00:00,  1.95s/it]\n",
      "100%|██████████| 28/28 [01:04<00:00,  2.29s/it]\n",
      "100%|██████████| 111/111 [02:58<00:00,  1.61s/it]\n",
      "  0%|          | 0/111 [00:00<?, ?it/s]"
     ]
    },
    {
     "name": "stdout",
     "output_type": "stream",
     "text": [
      "epoch: 9, f1_test: 0.4038542388591014, f1_train: 0.496867134295633\n"
     ]
    },
    {
     "name": "stderr",
     "output_type": "stream",
     "text": [
      "100%|██████████| 111/111 [03:38<00:00,  1.97s/it]\n",
      "100%|██████████| 28/28 [00:47<00:00,  1.71s/it]\n",
      "100%|██████████| 111/111 [03:09<00:00,  1.71s/it]\n",
      "  0%|          | 0/111 [00:00<?, ?it/s]"
     ]
    },
    {
     "name": "stdout",
     "output_type": "stream",
     "text": [
      "epoch: 10, f1_test: 0.4675401638936091, f1_train: 0.6132172885757705\n"
     ]
    },
    {
     "name": "stderr",
     "output_type": "stream",
     "text": [
      "100%|██████████| 111/111 [03:33<00:00,  1.93s/it]\n",
      "100%|██████████| 28/28 [00:49<00:00,  1.75s/it]\n",
      "100%|██████████| 111/111 [02:58<00:00,  1.61s/it]\n",
      "  0%|          | 0/111 [00:00<?, ?it/s]"
     ]
    },
    {
     "name": "stdout",
     "output_type": "stream",
     "text": [
      "epoch: 11, f1_test: 0.520426769799189, f1_train: 0.6815268907463442\n"
     ]
    },
    {
     "name": "stderr",
     "output_type": "stream",
     "text": [
      "100%|██████████| 111/111 [03:40<00:00,  1.98s/it]\n",
      "100%|██████████| 28/28 [00:49<00:00,  1.78s/it]\n",
      "100%|██████████| 111/111 [03:16<00:00,  1.77s/it]\n",
      "  0%|          | 0/111 [00:00<?, ?it/s]"
     ]
    },
    {
     "name": "stdout",
     "output_type": "stream",
     "text": [
      "epoch: 12, f1_test: 0.5439964549583134, f1_train: 0.7021997656523984\n"
     ]
    },
    {
     "name": "stderr",
     "output_type": "stream",
     "text": [
      "100%|██████████| 111/111 [04:21<00:00,  2.35s/it]\n",
      "100%|██████████| 28/28 [00:59<00:00,  2.13s/it]\n",
      "100%|██████████| 111/111 [03:51<00:00,  2.09s/it]\n",
      "  0%|          | 0/111 [00:00<?, ?it/s]"
     ]
    },
    {
     "name": "stdout",
     "output_type": "stream",
     "text": [
      "epoch: 13, f1_test: 0.471546250828828, f1_train: 0.6013093081377464\n"
     ]
    },
    {
     "name": "stderr",
     "output_type": "stream",
     "text": [
      "100%|██████████| 111/111 [05:07<00:00,  2.77s/it]\n",
      "100%|██████████| 28/28 [00:54<00:00,  1.93s/it]\n",
      "100%|██████████| 111/111 [03:27<00:00,  1.87s/it]\n",
      "  0%|          | 0/111 [00:00<?, ?it/s]"
     ]
    },
    {
     "name": "stdout",
     "output_type": "stream",
     "text": [
      "epoch: 14, f1_test: 0.5732330392920386, f1_train: 0.7372126475993634\n"
     ]
    },
    {
     "name": "stderr",
     "output_type": "stream",
     "text": [
      "100%|██████████| 111/111 [04:34<00:00,  2.48s/it]\n",
      "100%|██████████| 28/28 [00:54<00:00,  1.95s/it]\n",
      "100%|██████████| 111/111 [03:32<00:00,  1.91s/it]\n",
      "  0%|          | 0/111 [00:00<?, ?it/s]"
     ]
    },
    {
     "name": "stdout",
     "output_type": "stream",
     "text": [
      "epoch: 15, f1_test: 0.5208280803383415, f1_train: 0.6738171315770931\n"
     ]
    },
    {
     "name": "stderr",
     "output_type": "stream",
     "text": [
      "100%|██████████| 111/111 [04:09<00:00,  2.24s/it]\n",
      "100%|██████████| 28/28 [00:57<00:00,  2.05s/it]\n",
      "100%|██████████| 111/111 [03:12<00:00,  1.73s/it]\n",
      "  0%|          | 0/111 [00:00<?, ?it/s]"
     ]
    },
    {
     "name": "stdout",
     "output_type": "stream",
     "text": [
      "epoch: 16, f1_test: 0.4238591726575478, f1_train: 0.5695944320583652\n"
     ]
    },
    {
     "name": "stderr",
     "output_type": "stream",
     "text": [
      "100%|██████████| 111/111 [04:05<00:00,  2.22s/it]\n",
      "100%|██████████| 28/28 [00:48<00:00,  1.72s/it]\n",
      "100%|██████████| 111/111 [03:12<00:00,  1.73s/it]\n",
      "  0%|          | 0/111 [00:00<?, ?it/s]"
     ]
    },
    {
     "name": "stdout",
     "output_type": "stream",
     "text": [
      "epoch: 17, f1_test: 0.4579840801880822, f1_train: 0.6349720147426362\n"
     ]
    },
    {
     "name": "stderr",
     "output_type": "stream",
     "text": [
      "100%|██████████| 111/111 [03:44<00:00,  2.03s/it]\n",
      "100%|██████████| 28/28 [00:49<00:00,  1.75s/it]\n",
      "100%|██████████| 111/111 [02:58<00:00,  1.61s/it]\n",
      "  0%|          | 0/111 [00:00<?, ?it/s]"
     ]
    },
    {
     "name": "stdout",
     "output_type": "stream",
     "text": [
      "epoch: 18, f1_test: 0.4928989961800084, f1_train: 0.654218562743386\n"
     ]
    },
    {
     "name": "stderr",
     "output_type": "stream",
     "text": [
      "100%|██████████| 111/111 [03:36<00:00,  1.95s/it]\n",
      "100%|██████████| 28/28 [00:47<00:00,  1.71s/it]\n",
      "100%|██████████| 111/111 [03:08<00:00,  1.70s/it]\n",
      "  0%|          | 0/111 [00:00<?, ?it/s]"
     ]
    },
    {
     "name": "stdout",
     "output_type": "stream",
     "text": [
      "epoch: 19, f1_test: 0.4077470647403362, f1_train: 0.5419211915858181\n"
     ]
    },
    {
     "name": "stderr",
     "output_type": "stream",
     "text": [
      "100%|██████████| 111/111 [03:30<00:00,  1.90s/it]\n",
      "100%|██████████| 28/28 [00:49<00:00,  1.78s/it]\n",
      "100%|██████████| 111/111 [02:54<00:00,  1.58s/it]\n",
      "  0%|          | 0/111 [00:00<?, ?it/s]"
     ]
    },
    {
     "name": "stdout",
     "output_type": "stream",
     "text": [
      "epoch: 20, f1_test: 0.3134654096476439, f1_train: 0.43109494058531456\n"
     ]
    },
    {
     "name": "stderr",
     "output_type": "stream",
     "text": [
      "100%|██████████| 111/111 [03:38<00:00,  1.97s/it]\n",
      "100%|██████████| 28/28 [00:49<00:00,  1.76s/it]\n",
      "100%|██████████| 111/111 [03:20<00:00,  1.81s/it]\n",
      "  0%|          | 0/111 [00:00<?, ?it/s]"
     ]
    },
    {
     "name": "stdout",
     "output_type": "stream",
     "text": [
      "epoch: 21, f1_test: 0.4279699700519587, f1_train: 0.5808301914649276\n"
     ]
    },
    {
     "name": "stderr",
     "output_type": "stream",
     "text": [
      "100%|██████████| 111/111 [03:49<00:00,  2.07s/it]\n",
      "100%|██████████| 28/28 [00:49<00:00,  1.76s/it]\n",
      "100%|██████████| 111/111 [02:55<00:00,  1.58s/it]\n",
      "  0%|          | 0/111 [00:00<?, ?it/s]"
     ]
    },
    {
     "name": "stdout",
     "output_type": "stream",
     "text": [
      "epoch: 22, f1_test: 0.3908169853288906, f1_train: 0.5207418520727665\n"
     ]
    },
    {
     "name": "stderr",
     "output_type": "stream",
     "text": [
      "100%|██████████| 111/111 [03:43<00:00,  2.01s/it]\n",
      "100%|██████████| 28/28 [00:50<00:00,  1.79s/it]\n",
      "100%|██████████| 111/111 [03:16<00:00,  1.77s/it]\n",
      "  0%|          | 0/111 [00:00<?, ?it/s]"
     ]
    },
    {
     "name": "stdout",
     "output_type": "stream",
     "text": [
      "epoch: 23, f1_test: 0.42784314534615514, f1_train: 0.5915147084641941\n"
     ]
    },
    {
     "name": "stderr",
     "output_type": "stream",
     "text": [
      "100%|██████████| 111/111 [04:20<00:00,  2.35s/it]\n",
      "100%|██████████| 28/28 [00:51<00:00,  1.83s/it]\n",
      "100%|██████████| 111/111 [03:09<00:00,  1.71s/it]\n",
      "  0%|          | 0/111 [00:00<?, ?it/s]"
     ]
    },
    {
     "name": "stdout",
     "output_type": "stream",
     "text": [
      "epoch: 24, f1_test: 0.473787787425132, f1_train: 0.6263514806434017\n"
     ]
    },
    {
     "name": "stderr",
     "output_type": "stream",
     "text": [
      "100%|██████████| 111/111 [03:42<00:00,  2.00s/it]\n",
      "100%|██████████| 28/28 [00:56<00:00,  2.01s/it]\n",
      "100%|██████████| 111/111 [03:11<00:00,  1.73s/it]\n",
      "  0%|          | 0/111 [00:00<?, ?it/s]"
     ]
    },
    {
     "name": "stdout",
     "output_type": "stream",
     "text": [
      "epoch: 25, f1_test: 0.3735565457891073, f1_train: 0.48274043844304143\n"
     ]
    },
    {
     "name": "stderr",
     "output_type": "stream",
     "text": [
      "100%|██████████| 111/111 [04:37<00:00,  2.50s/it]\n",
      "100%|██████████| 28/28 [00:49<00:00,  1.76s/it]\n",
      "100%|██████████| 111/111 [03:18<00:00,  1.79s/it]\n",
      "  0%|          | 0/111 [00:00<?, ?it/s]"
     ]
    },
    {
     "name": "stdout",
     "output_type": "stream",
     "text": [
      "epoch: 26, f1_test: 0.48225267059365656, f1_train: 0.6630963157234333\n"
     ]
    },
    {
     "name": "stderr",
     "output_type": "stream",
     "text": [
      "100%|██████████| 111/111 [04:15<00:00,  2.30s/it]\n",
      "100%|██████████| 28/28 [00:49<00:00,  1.76s/it]\n",
      "100%|██████████| 111/111 [03:16<00:00,  1.77s/it]\n",
      "  0%|          | 0/111 [00:00<?, ?it/s]"
     ]
    },
    {
     "name": "stdout",
     "output_type": "stream",
     "text": [
      "epoch: 27, f1_test: 0.41643731923793054, f1_train: 0.59381409564686\n"
     ]
    },
    {
     "name": "stderr",
     "output_type": "stream",
     "text": [
      "100%|██████████| 111/111 [04:09<00:00,  2.25s/it]\n",
      "100%|██████████| 28/28 [00:55<00:00,  1.99s/it]\n",
      "100%|██████████| 111/111 [03:25<00:00,  1.85s/it]\n",
      "  0%|          | 0/111 [00:00<?, ?it/s]"
     ]
    },
    {
     "name": "stdout",
     "output_type": "stream",
     "text": [
      "epoch: 28, f1_test: 0.4235059434086725, f1_train: 0.5766101771707053\n"
     ]
    },
    {
     "name": "stderr",
     "output_type": "stream",
     "text": [
      "100%|██████████| 111/111 [04:59<00:00,  2.70s/it]\n",
      "100%|██████████| 28/28 [00:54<00:00,  1.95s/it]\n",
      "100%|██████████| 111/111 [03:48<00:00,  2.06s/it]\n",
      "  0%|          | 0/111 [00:00<?, ?it/s]"
     ]
    },
    {
     "name": "stdout",
     "output_type": "stream",
     "text": [
      "epoch: 29, f1_test: 0.3717440256254967, f1_train: 0.510286946105459\n"
     ]
    },
    {
     "name": "stderr",
     "output_type": "stream",
     "text": [
      "100%|██████████| 111/111 [04:04<00:00,  2.20s/it]\n",
      "100%|██████████| 28/28 [00:58<00:00,  2.11s/it]\n",
      "100%|██████████| 111/111 [03:54<00:00,  2.11s/it]\n",
      "  0%|          | 0/111 [00:00<?, ?it/s]"
     ]
    },
    {
     "name": "stdout",
     "output_type": "stream",
     "text": [
      "epoch: 30, f1_test: 0.5226673124114498, f1_train: 0.7043775433928576\n"
     ]
    },
    {
     "name": "stderr",
     "output_type": "stream",
     "text": [
      "100%|██████████| 111/111 [04:12<00:00,  2.28s/it]\n",
      "100%|██████████| 28/28 [00:49<00:00,  1.78s/it]\n",
      "100%|██████████| 111/111 [03:44<00:00,  2.02s/it]\n",
      "  0%|          | 0/111 [00:00<?, ?it/s]"
     ]
    },
    {
     "name": "stdout",
     "output_type": "stream",
     "text": [
      "epoch: 31, f1_test: 0.3808671769851983, f1_train: 0.5489014199396945\n"
     ]
    },
    {
     "name": "stderr",
     "output_type": "stream",
     "text": [
      "100%|██████████| 111/111 [04:18<00:00,  2.33s/it]\n",
      "100%|██████████| 28/28 [00:51<00:00,  1.82s/it]\n",
      "100%|██████████| 111/111 [03:22<00:00,  1.83s/it]\n",
      "  0%|          | 0/111 [00:00<?, ?it/s]"
     ]
    },
    {
     "name": "stdout",
     "output_type": "stream",
     "text": [
      "epoch: 32, f1_test: 0.4408889591375032, f1_train: 0.638177443703883\n"
     ]
    },
    {
     "name": "stderr",
     "output_type": "stream",
     "text": [
      "100%|██████████| 111/111 [04:24<00:00,  2.38s/it]\n",
      "100%|██████████| 28/28 [00:55<00:00,  1.97s/it]\n",
      "100%|██████████| 111/111 [03:25<00:00,  1.85s/it]\n"
     ]
    },
    {
     "name": "stdout",
     "output_type": "stream",
     "text": [
      "epoch: 33, f1_test: 0.5816243358271652, f1_train: 0.7669283478705207\n"
     ]
    },
    {
     "name": "stderr",
     "output_type": "stream",
     "text": [
      "100%|██████████| 111/111 [03:52<00:00,  2.10s/it]\n",
      "100%|██████████| 28/28 [00:52<00:00,  1.89s/it]\n",
      "100%|██████████| 111/111 [03:17<00:00,  1.77s/it]\n",
      "  0%|          | 0/111 [00:00<?, ?it/s]"
     ]
    },
    {
     "name": "stdout",
     "output_type": "stream",
     "text": [
      "epoch: 34, f1_test: 0.4524324645136685, f1_train: 0.6437849761681761\n"
     ]
    },
    {
     "name": "stderr",
     "output_type": "stream",
     "text": [
      "100%|██████████| 111/111 [04:22<00:00,  2.36s/it]\n",
      "100%|██████████| 28/28 [00:51<00:00,  1.84s/it]\n",
      "100%|██████████| 111/111 [03:54<00:00,  2.11s/it]\n",
      "  0%|          | 0/111 [00:00<?, ?it/s]"
     ]
    },
    {
     "name": "stdout",
     "output_type": "stream",
     "text": [
      "epoch: 35, f1_test: 0.48910224056249074, f1_train: 0.6806841068996061\n"
     ]
    },
    {
     "name": "stderr",
     "output_type": "stream",
     "text": [
      "100%|██████████| 111/111 [04:00<00:00,  2.17s/it]\n",
      "100%|██████████| 28/28 [00:52<00:00,  1.88s/it]\n",
      "100%|██████████| 111/111 [03:27<00:00,  1.87s/it]\n",
      "  0%|          | 0/111 [00:00<?, ?it/s]"
     ]
    },
    {
     "name": "stdout",
     "output_type": "stream",
     "text": [
      "epoch: 36, f1_test: 0.4990988967149006, f1_train: 0.6639625127098123\n"
     ]
    },
    {
     "name": "stderr",
     "output_type": "stream",
     "text": [
      "100%|██████████| 111/111 [04:01<00:00,  2.18s/it]\n",
      "100%|██████████| 28/28 [00:50<00:00,  1.81s/it]\n",
      "100%|██████████| 111/111 [03:43<00:00,  2.01s/it]\n",
      "  0%|          | 0/111 [00:00<?, ?it/s]"
     ]
    },
    {
     "name": "stdout",
     "output_type": "stream",
     "text": [
      "epoch: 37, f1_test: 0.514350258476882, f1_train: 0.7069969584300682\n"
     ]
    },
    {
     "name": "stderr",
     "output_type": "stream",
     "text": [
      "100%|██████████| 111/111 [03:47<00:00,  2.05s/it]\n",
      "100%|██████████| 28/28 [01:10<00:00,  2.50s/it]\n",
      "100%|██████████| 111/111 [03:03<00:00,  1.65s/it]\n",
      "  0%|          | 0/111 [00:00<?, ?it/s]"
     ]
    },
    {
     "name": "stdout",
     "output_type": "stream",
     "text": [
      "epoch: 38, f1_test: 0.5245882795806621, f1_train: 0.699778822833345\n"
     ]
    },
    {
     "name": "stderr",
     "output_type": "stream",
     "text": [
      "100%|██████████| 111/111 [03:55<00:00,  2.12s/it]\n",
      "100%|██████████| 28/28 [00:55<00:00,  1.98s/it]\n",
      "100%|██████████| 111/111 [03:17<00:00,  1.78s/it]\n",
      "  0%|          | 0/111 [00:00<?, ?it/s]"
     ]
    },
    {
     "name": "stdout",
     "output_type": "stream",
     "text": [
      "epoch: 39, f1_test: 0.4660056199636203, f1_train: 0.6400046940047314\n"
     ]
    },
    {
     "name": "stderr",
     "output_type": "stream",
     "text": [
      "100%|██████████| 111/111 [03:57<00:00,  2.14s/it]\n",
      "100%|██████████| 28/28 [00:57<00:00,  2.06s/it]\n",
      "100%|██████████| 111/111 [03:12<00:00,  1.73s/it]\n",
      "  0%|          | 0/111 [00:00<?, ?it/s]"
     ]
    },
    {
     "name": "stdout",
     "output_type": "stream",
     "text": [
      "epoch: 40, f1_test: 0.4572894070740288, f1_train: 0.6560077485601234\n"
     ]
    },
    {
     "name": "stderr",
     "output_type": "stream",
     "text": [
      "100%|██████████| 111/111 [04:06<00:00,  2.22s/it]\n",
      "100%|██████████| 28/28 [00:51<00:00,  1.85s/it]\n",
      "100%|██████████| 111/111 [04:01<00:00,  2.18s/it]\n",
      "  0%|          | 0/111 [00:00<?, ?it/s]"
     ]
    },
    {
     "name": "stdout",
     "output_type": "stream",
     "text": [
      "epoch: 41, f1_test: 0.5235067252838232, f1_train: 0.6909909090720606\n"
     ]
    },
    {
     "name": "stderr",
     "output_type": "stream",
     "text": [
      "100%|██████████| 111/111 [03:53<00:00,  2.11s/it]\n",
      "100%|██████████| 28/28 [00:58<00:00,  2.08s/it]\n",
      "100%|██████████| 111/111 [03:11<00:00,  1.73s/it]\n",
      "  0%|          | 0/111 [00:00<?, ?it/s]"
     ]
    },
    {
     "name": "stdout",
     "output_type": "stream",
     "text": [
      "epoch: 42, f1_test: 0.5047501062627344, f1_train: 0.6794654618420454\n"
     ]
    },
    {
     "name": "stderr",
     "output_type": "stream",
     "text": [
      "100%|██████████| 111/111 [04:24<00:00,  2.38s/it]\n",
      "100%|██████████| 28/28 [01:10<00:00,  2.51s/it]\n",
      "100%|██████████| 111/111 [03:49<00:00,  2.07s/it]\n",
      "  0%|          | 0/111 [00:00<?, ?it/s]"
     ]
    },
    {
     "name": "stdout",
     "output_type": "stream",
     "text": [
      "epoch: 43, f1_test: 0.4821024434279351, f1_train: 0.6975675782535434\n"
     ]
    },
    {
     "name": "stderr",
     "output_type": "stream",
     "text": [
      "100%|██████████| 111/111 [04:14<00:00,  2.30s/it]\n",
      "100%|██████████| 28/28 [00:53<00:00,  1.90s/it]\n",
      "100%|██████████| 111/111 [03:17<00:00,  1.78s/it]"
     ]
    },
    {
     "name": "stdout",
     "output_type": "stream",
     "text": [
      "epoch: 44, f1_test: 0.5015752864318939, f1_train: 0.7229030860335409\n"
     ]
    },
    {
     "name": "stderr",
     "output_type": "stream",
     "text": [
      "\n"
     ]
    }
   ],
   "source": [
    "n_epoch = 45\n",
    "best_f1 = 0\n",
    "for epoch in range(n_epoch):\n",
    "    model.train()\n",
    "    for wavs, labs in tqdm(train_loader):\n",
    "        optimizer.zero_grad()\n",
    "        wavs, labs = wavs.cuda(), labs.cuda()\n",
    "        outputs = model(wavs)\n",
    "        loss = criterion(outputs, labs)\n",
    "        loss.backward()\n",
    "        optimizer.step()\n",
    "#     if epoch % 10 == 0:\n",
    "    f1 = eval_model(model, val_loader)\n",
    "    f1_train = eval_model(model, train_loader)\n",
    "    print(f'epoch: {epoch}, f1_test: {f1}, f1_train: {f1_train}')\n",
    "    if f1 > best_f1:\n",
    "        best_f1 = f1\n",
    "        torch.save(model.state_dict(), 'baseline_fulldiv_2.pt')\n",
    "        \n",
    "    lr = lr * 0.95\n",
    "    for param_group in optimizer.param_groups:\n",
    "        param_group['lr'] = lr"
   ]
  },
  {
   "cell_type": "code",
   "execution_count": 12,
   "metadata": {},
   "outputs": [
    {
     "name": "stdout",
     "output_type": "stream",
     "text": [
      "Loaded pretrained weights for efficientnet-b0\n"
     ]
    },
    {
     "name": "stderr",
     "output_type": "stream",
     "text": [
      "  0%|          | 0/93 [00:00<?, ?it/s]E:\\Anaconda\\lib\\site-packages\\ipykernel_launcher.py:41: UserWarning: Implicit dimension choice for softmax has been deprecated. Change the call to include dim=X as an argument.\n",
      "100%|██████████| 93/93 [02:22<00:00,  1.53s/it]\n"
     ]
    }
   ],
   "source": [
    "model_name = 'baseline_fulldiv_2.pt'\n",
    "model = BaseLineModel().cuda()\n",
    "model.load_state_dict(torch.load(os.path.join(model_name)))\n",
    "model.eval()\n",
    "forecast = []\n",
    "with torch.no_grad():\n",
    "    for wavs in tqdm(test_loader):\n",
    "        wavs = wavs.cuda()\n",
    "        outputs = model.inference(wavs)\n",
    "        outputs = outputs.detach().cpu().numpy().argmax(axis=1)\n",
    "        forecast.append(outputs)\n",
    "forecast = [x for sublist in forecast for x in sublist]\n",
    "decoder = {classes_dict[cl]:cl for cl in classes_dict}\n",
    "forecast = pd.Series(forecast).map(decoder)\n",
    "df_test['label'] = forecast\n",
    "df_test.to_csv(f'{model_name}.csv', index=None)"
   ]
  },
  {
   "cell_type": "code",
   "execution_count": null,
   "metadata": {},
   "outputs": [],
   "source": []
  }
 ],
 "metadata": {
  "kernelspec": {
   "display_name": "Python 3",
   "language": "python",
   "name": "python3"
  },
  "language_info": {
   "codemirror_mode": {
    "name": "ipython",
    "version": 3
   },
   "file_extension": ".py",
   "mimetype": "text/x-python",
   "name": "python",
   "nbconvert_exporter": "python",
   "pygments_lexer": "ipython3",
   "version": "3.7.6"
  }
 },
 "nbformat": 4,
 "nbformat_minor": 2
}
